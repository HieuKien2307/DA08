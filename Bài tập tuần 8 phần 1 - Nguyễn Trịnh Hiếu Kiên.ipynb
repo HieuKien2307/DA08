{
 "cells": [
  {
   "cell_type": "markdown",
   "id": "fa6355a7",
   "metadata": {},
   "source": [
    "Thực hiện phân tích mô tả cho dữ liệu chuyến bay \"nycflights.csv\"\n",
    "1. Cho cột dep_delay ( khởi hành trễ)\n",
    "2. Cho cột arr_deply (đến nơi trễ)\n",
    "3. cho cột distance(khoảng cách chuyến bay)\n",
    "4. Sử dụng linear regression xây dựng mô hình dự đoán thời gian đến nơi trễ (arr_delay) dựa vào thời gian xuất phát trễ (dep_delay) và khoảng cách (distance). "
   ]
  },
  {
   "cell_type": "code",
   "execution_count": 2,
   "id": "318694a2",
   "metadata": {},
   "outputs": [],
   "source": [
    "import pandas as pd\n",
    "from sklearn.linear_model import LinearRegression\n",
    "from sklearn.model_selection import train_test_split\n",
    "from sklearn.metrics import mean_squared_error"
   ]
  },
  {
   "cell_type": "code",
   "execution_count": 6,
   "id": "ae7cda58",
   "metadata": {},
   "outputs": [],
   "source": [
    "# Đọc dữ liệu từ tập tin CSV\n",
    "df = pd.read_csv(r\"C:\\Project\\nycflights.csv\")"
   ]
  },
  {
   "cell_type": "code",
   "execution_count": 7,
   "id": "f9a49bc6",
   "metadata": {},
   "outputs": [],
   "source": [
    "\n",
    "# Phân tích mô tả cho cột dep_delay\n",
    "dep_delay_mean = df['dep_delay'].mean()\n",
    "dep_delay_std = df['dep_delay'].std()\n",
    "dep_delay_min = df['dep_delay'].min()\n",
    "dep_delay_max = df['dep_delay'].max()\n",
    "\n",
    "# Phân tích mô tả cho cột arr_delay\n",
    "arr_delay_mean = df['arr_delay'].mean()\n",
    "arr_delay_std = df['arr_delay'].std()\n",
    "arr_delay_min = df['arr_delay'].min()\n",
    "arr_delay_max = df['arr_delay'].max()\n",
    "\n",
    "# Phân tích mô tả cho cột distance\n",
    "distance_mean = df['distance'].mean()\n",
    "distance_std = df['distance'].std()\n",
    "distance_min = df['distance'].min()\n",
    "distance_max = df['distance'].max()"
   ]
  },
  {
   "cell_type": "code",
   "execution_count": 8,
   "id": "6eba4e50",
   "metadata": {},
   "outputs": [
    {
     "name": "stdout",
     "output_type": "stream",
     "text": [
      "Phân tích mô tả cho dữ liệu chuyến bay:\n",
      "Thời gian xuất phát trễ (dep_delay):\n",
      "Giá trị trung bình: 12.639070257304708\n",
      "Độ lệch chuẩn: 40.2100608921069\n",
      "Giá trị tối thiểu: -43.0\n",
      "Giá trị tối đa: 1301.0\n",
      "\n",
      "Thời gian đến nơi trễ (arr_delay):\n",
      "Giá trị trung bình: 6.89537675731489\n",
      "Độ lệch chuẩn: 44.63329169019526\n",
      "Giá trị tối thiểu: -86.0\n",
      "Giá trị tối đa: 1272.0\n",
      "\n",
      "Khoảng cách chuyến bay (distance):\n",
      "Giá trị trung bình: 1039.9126036297123\n",
      "Độ lệch chuẩn: 733.2330333235255\n",
      "Giá trị tối thiểu: 17\n",
      "Giá trị tối đa: 4983\n",
      "\n"
     ]
    }
   ],
   "source": [
    "# In kết quả\n",
    "print(\"Phân tích mô tả cho dữ liệu chuyến bay:\")\n",
    "print(\"Thời gian xuất phát trễ (dep_delay):\")\n",
    "print(f\"Giá trị trung bình: {dep_delay_mean}\")\n",
    "print(f\"Độ lệch chuẩn: {dep_delay_std}\")\n",
    "print(f\"Giá trị tối thiểu: {dep_delay_min}\")\n",
    "print(f\"Giá trị tối đa: {dep_delay_max}\\n\")\n",
    "\n",
    "print(\"Thời gian đến nơi trễ (arr_delay):\")\n",
    "print(f\"Giá trị trung bình: {arr_delay_mean}\")\n",
    "print(f\"Độ lệch chuẩn: {arr_delay_std}\")\n",
    "print(f\"Giá trị tối thiểu: {arr_delay_min}\")\n",
    "print(f\"Giá trị tối đa: {arr_delay_max}\\n\")\n",
    "\n",
    "print(\"Khoảng cách chuyến bay (distance):\")\n",
    "print(f\"Giá trị trung bình: {distance_mean}\")\n",
    "print(f\"Độ lệch chuẩn: {distance_std}\")\n",
    "print(f\"Giá trị tối thiểu: {distance_min}\")\n",
    "print(f\"Giá trị tối đa: {distance_max}\\n\")"
   ]
  },
  {
   "cell_type": "code",
   "execution_count": 9,
   "id": "0a9a00db",
   "metadata": {},
   "outputs": [
    {
     "data": {
      "text/plain": [
       "Unnamed: 0       0\n",
       "year             0\n",
       "month            0\n",
       "day              0\n",
       "dep_time      8255\n",
       "dep_delay     8255\n",
       "arr_time      8713\n",
       "arr_delay     9430\n",
       "carrier          0\n",
       "tailnum       2512\n",
       "flight           0\n",
       "origin           0\n",
       "dest             0\n",
       "air_time      9430\n",
       "distance         0\n",
       "hour          8255\n",
       "minute        8255\n",
       "dtype: int64"
      ]
     },
     "execution_count": 9,
     "metadata": {},
     "output_type": "execute_result"
    }
   ],
   "source": [
    "df.isna().sum()"
   ]
  },
  {
   "cell_type": "code",
   "execution_count": 10,
   "id": "06ce90d6",
   "metadata": {},
   "outputs": [],
   "source": [
    "df['dep_delay'].fillna(df['dep_delay'].mode()[0], inplace=True)\n",
    "df['arr_delay'].fillna(df['arr_delay'].mode()[0], inplace=True)"
   ]
  },
  {
   "cell_type": "code",
   "execution_count": 11,
   "id": "6cc5d0da",
   "metadata": {},
   "outputs": [
    {
     "data": {
      "text/plain": [
       "LinearRegression()"
      ]
     },
     "execution_count": 11,
     "metadata": {},
     "output_type": "execute_result"
    }
   ],
   "source": [
    "X_train = df[['dep_delay','distance']].values \n",
    "y_train = df['arr_delay'].values\n",
    "\n",
    "X_test = df[['dep_delay','distance']].values\n",
    "y_test = df['arr_delay'].values\n",
    "\n",
    "model = LinearRegression()\n",
    "model.fit(X_train, y_train)"
   ]
  },
  {
   "cell_type": "code",
   "execution_count": 12,
   "id": "a6886e8f",
   "metadata": {},
   "outputs": [
    {
     "data": {
      "text/plain": [
       "array([ -4.83125111,  -2.85699765,  -4.06087724, ..., -10.30442813,\n",
       "        -9.44983331,  -9.47955835])"
      ]
     },
     "execution_count": 12,
     "metadata": {},
     "output_type": "execute_result"
    }
   ],
   "source": [
    "model.predict(X_test)"
   ]
  },
  {
   "cell_type": "code",
   "execution_count": 13,
   "id": "0e0fb7e8",
   "metadata": {},
   "outputs": [
    {
     "data": {
      "text/plain": [
       "array([ 1.00694343, -0.00247709])"
      ]
     },
     "execution_count": 13,
     "metadata": {},
     "output_type": "execute_result"
    }
   ],
   "source": [
    "model.coef_"
   ]
  },
  {
   "cell_type": "code",
   "execution_count": 14,
   "id": "5ccdb984",
   "metadata": {},
   "outputs": [
    {
     "data": {
      "text/plain": [
       "-3.3772169701932366"
      ]
     },
     "execution_count": 14,
     "metadata": {},
     "output_type": "execute_result"
    }
   ],
   "source": [
    "model.intercept_"
   ]
  },
  {
   "cell_type": "code",
   "execution_count": 15,
   "id": "9241dcb5",
   "metadata": {},
   "outputs": [
    {
     "data": {
      "text/plain": [
       "0.8281015470738036"
      ]
     },
     "execution_count": 15,
     "metadata": {},
     "output_type": "execute_result"
    }
   ],
   "source": [
    "model.score(X_train, y_train)"
   ]
  },
  {
   "cell_type": "code",
   "execution_count": null,
   "id": "a250d31c",
   "metadata": {},
   "outputs": [],
   "source": []
  }
 ],
 "metadata": {
  "kernelspec": {
   "display_name": "Python 3 (ipykernel)",
   "language": "python",
   "name": "python3"
  },
  "language_info": {
   "codemirror_mode": {
    "name": "ipython",
    "version": 3
   },
   "file_extension": ".py",
   "mimetype": "text/x-python",
   "name": "python",
   "nbconvert_exporter": "python",
   "pygments_lexer": "ipython3",
   "version": "3.9.13"
  }
 },
 "nbformat": 4,
 "nbformat_minor": 5
}
