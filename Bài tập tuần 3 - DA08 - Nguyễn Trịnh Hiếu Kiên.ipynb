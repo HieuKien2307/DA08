{
 "cells": [
  {
   "cell_type": "markdown",
   "id": "968476bd",
   "metadata": {},
   "source": [
    "## Bài tập tuần 3 "
   ]
  },
  {
   "cell_type": "code",
   "execution_count": 13,
   "id": "a04a7934",
   "metadata": {},
   "outputs": [
    {
     "name": "stdout",
     "output_type": "stream",
     "text": [
      "Danh sách số lẻ: [1, 3, 5, 7, 9, 11, 13, 15, 17, 19]\n",
      "Danh sách số chẵn: [2, 4, 6, 8, 10, 12, 14, 16, 18, 20]\n"
     ]
    }
   ],
   "source": [
    "## Câu 1\n",
    "list = [1,2,3,4,5,6,7,8,9,10,11,12,13,14,15,16,17,18,19,20]\n",
    "list_trong=[]\n",
    "##Tạo một list mới chứa các số lẻ\n",
    "list1 = [x for x in list if x % 2 != 0]\n",
    "##Đưa các số chẵn vào list mới\n",
    "for i in range(len(list)):\n",
    "    if list[i] % 2 == 0:\n",
    "        list_trong.append(list[i])\n",
    "\n",
    "print(\"Danh sách số lẻ:\", list1)\n",
    "print(\"Danh sách số chẵn:\", list_trong)"
   ]
  },
  {
   "cell_type": "code",
   "execution_count": 15,
   "id": "3a675ce8",
   "metadata": {},
   "outputs": [
    {
     "name": "stdout",
     "output_type": "stream",
     "text": [
      "mua\n",
      "giu nguyen\n",
      "ban\n",
      "giu nguyen\n",
      "giu nguyen\n",
      "giu nguyen\n",
      "mua\n",
      "giu nguyen\n",
      "giu nguyen\n",
      "mua\n",
      "giu nguyen\n",
      "1 không phải là số nguyên tố\n",
      "2 Không phải là số nguyên tố\n",
      "3 là số nguyên tố\n",
      "4 Không phải là số nguyên tố\n",
      "5 là số nguyên tố\n",
      "6 Không phải là số nguyên tố\n",
      "7 là số nguyên tố\n"
     ]
    }
   ],
   "source": [
    "#Viet vong lap ban hoac mua cp\n",
    "gia_theo_ngay = [10.1, 9.5, 10.7, 10.8, 10.6, 10.0, 10.2, 9.5]\n",
    "for i in range(len(gia_theo_ngay)-1):\n",
    "    if gia_theo_ngay[i+1]>=gia_theo_ngay[i]*1.07:\n",
    "        print(\"ban\")\n",
    "    if gia_theo_ngay[i+1]<=gia_theo_ngay[i]*0.95:\n",
    "        print(\"mua\")\n",
    "    print(\"giu nguyen\")\n",
    "\n",
    "import math\n",
    "#viet chuong trinh kiem tra snt\n",
    "danh_sach_kiem_tra =[1,2,3,4,5,6,7]\n",
    "for i in range(len(danh_sach_kiem_tra)):\n",
    "    check = False\n",
    "    if danh_sach_kiem_tra[i] < 0:\n",
    "        print(str(danh_sach_kiem_tra[i]) + \" không phải số tự nhiên\")\n",
    "    if danh_sach_kiem_tra[i] <2 :\n",
    "        print(str(danh_sach_kiem_tra[i]) + \" không phải là số nguyên tố\")\n",
    "    else:\n",
    "        for j in range(2, danh_sach_kiem_tra[i]):\n",
    "            if danh_sach_kiem_tra[i] % j != 0:\n",
    "                check = True\n",
    "            else:\n",
    "                check = False\n",
    "                break\n",
    "        if check == False:\n",
    "            print(str(danh_sach_kiem_tra[i]) + \" Không phải là số nguyên tố\")\n",
    "        if check == True:\n",
    "            print(str(danh_sach_kiem_tra[i]) + \" là số nguyên tố\")\n"
   ]
  },
  {
   "cell_type": "code",
   "execution_count": 21,
   "id": "6584fa86",
   "metadata": {},
   "outputs": [],
   "source": [
    "with open(\"test.txt\",'w',encoding = 'utf-8') as f: f.write(\" Kết quả của bài tập 1: mua, giu nguyen, ban, giunguyen,giu nguyen,giu nguyen,mua,giu nguyen,giu nguyen,mua,giu nguyen\")                       "
   ]
  },
  {
   "cell_type": "code",
   "execution_count": 28,
   "id": "e818fbf0",
   "metadata": {},
   "outputs": [
    {
     "name": "stdout",
     "output_type": "stream",
     "text": [
      "Nội dung 12 ký tự đầu là:  Kết quả của\n"
     ]
    }
   ],
   "source": [
    "f = open(\"test.txt\",'r',encoding = 'utf-8')\n",
    "a = f.read(12)\n",
    "print(\"Nội dung 12 ký tự đầu là:\",a)\n",
    "f.close()"
   ]
  },
  {
   "cell_type": "code",
   "execution_count": 3,
   "id": "15447731",
   "metadata": {},
   "outputs": [
    {
     "data": {
      "text/plain": [
       "'C:\\\\Users\\\\Admin'"
      ]
     },
     "execution_count": 3,
     "metadata": {},
     "output_type": "execute_result"
    }
   ],
   "source": [
    "%pwd"
   ]
  },
  {
   "cell_type": "code",
   "execution_count": 6,
   "id": "a202278b",
   "metadata": {},
   "outputs": [],
   "source": [
    "import csv"
   ]
  },
  {
   "cell_type": "code",
   "execution_count": 7,
   "id": "1be4ead2",
   "metadata": {},
   "outputs": [
    {
     "name": "stdout",
     "output_type": "stream",
     "text": [
      "['', 'Invoice ID', 'City', 'Customer type', 'Gender', 'Product line', 'Unit price', 'Quantity', 'Tax 5%', 'cogs', 'Total', 'Date', 'Time', 'Payment', 'Rating']\n"
     ]
    }
   ],
   "source": [
    "ds_tp = []\n",
    "with open(\"C:\\DA08\\sale_data_vn.csv\", mode='r', encoding=\"utf-8\",newline='') as a:\n",
    "    reader = csv.reader(a)\n",
    "    header = next(reader)\n",
    "    print(header)\n",
    "    \n",
    "    for row in reader :\n",
    "        ds_tp.append(row[2])\n",
    "    \n",
    "    "
   ]
  },
  {
   "cell_type": "code",
   "execution_count": 8,
   "id": "cab3054c",
   "metadata": {},
   "outputs": [
    {
     "data": {
      "text/plain": [
       "1000"
      ]
     },
     "execution_count": 8,
     "metadata": {},
     "output_type": "execute_result"
    }
   ],
   "source": [
    "len(ds_tp)"
   ]
  },
  {
   "cell_type": "code",
   "execution_count": 10,
   "id": "ffe580c0",
   "metadata": {},
   "outputs": [
    {
     "name": "stdout",
     "output_type": "stream",
     "text": [
      "['Hà Nội', 'Đà Nẵng', 'TP HCM']\n"
     ]
    }
   ],
   "source": [
    "ds_ten_tp= list(set(ds_tp))\n",
    "print(ds_ten_tp)"
   ]
  },
  {
   "cell_type": "code",
   "execution_count": 20,
   "id": "ff81ca06",
   "metadata": {},
   "outputs": [
    {
     "name": "stdout",
     "output_type": "stream",
     "text": [
      "Tần số của Hà Nội là 273\n",
      "Tần số của Đà Nẵng là 210\n",
      "Tần số của TP HCM là 517\n"
     ]
    }
   ],
   "source": [
    "ds_tp_count = []\n",
    "for tp in ds_ten_tp:\n",
    "    count = 0\n",
    "    \n",
    "    for tp_donhang in ds_tp:\n",
    "        if tp == tp_donhang:\n",
    "            count +=1\n",
    "    print(f\"Tần số của {tp} là\",count)\n",
    "    ds_tp_count.append(count)\n",
    "    "
   ]
  },
  {
   "cell_type": "code",
   "execution_count": 51,
   "id": "1a52939a",
   "metadata": {},
   "outputs": [],
   "source": [
    "tan_suat = []\n",
    "for i in range(len(ds_tp_count)):\n",
    "    tan_suat.append(ds_tp_count[i]/1000)"
   ]
  },
  {
   "cell_type": "code",
   "execution_count": 52,
   "id": "19214c96",
   "metadata": {},
   "outputs": [
    {
     "name": "stdout",
     "output_type": "stream",
     "text": [
      "[0.273, 0.21, 0.517]\n"
     ]
    }
   ],
   "source": [
    "print(tan_suat)"
   ]
  },
  {
   "cell_type": "code",
   "execution_count": 55,
   "id": "690b99d5",
   "metadata": {},
   "outputs": [
    {
     "name": "stdout",
     "output_type": "stream",
     "text": [
      "Tần suất của từng thành phố là [0.273, 0.21, 0.517]\n"
     ]
    }
   ],
   "source": [
    "\n",
    "print(\"Tần suất của từng thành phố là\",tan_suat)"
   ]
  },
  {
   "cell_type": "code",
   "execution_count": 56,
   "id": "6e16a1c1",
   "metadata": {},
   "outputs": [
    {
     "name": "stdout",
     "output_type": "stream",
     "text": [
      "['', 'Invoice ID', 'City', 'Customer type', 'Gender', 'Product line', 'Unit price', 'Quantity', 'Tax 5%', 'cogs', 'Total', 'Date', 'Time', 'Payment', 'Rating']\n"
     ]
    }
   ],
   "source": [
    "ds_khachhang = []\n",
    "with open(\"C:\\DA08\\sale_data_vn.csv\", mode='r', encoding=\"utf-8\",newline='') as a:\n",
    "    reader = csv.reader(a)\n",
    "    header = next(reader)\n",
    "    print(header)\n",
    "    \n",
    "    for row in reader :\n",
    "        ds_khachhang.append(row[4])"
   ]
  },
  {
   "cell_type": "code",
   "execution_count": 57,
   "id": "0ea9f1e8",
   "metadata": {},
   "outputs": [
    {
     "data": {
      "text/plain": [
       "1000"
      ]
     },
     "execution_count": 57,
     "metadata": {},
     "output_type": "execute_result"
    }
   ],
   "source": [
    "len(ds_khachhang)"
   ]
  },
  {
   "cell_type": "code",
   "execution_count": 59,
   "id": "ffaa88fe",
   "metadata": {},
   "outputs": [
    {
     "name": "stdout",
     "output_type": "stream",
     "text": [
      "['Nam', 'Nữ']\n"
     ]
    }
   ],
   "source": [
    "ds_ten_khachhang= list(set(ds_khachhang))\n",
    "print(ds_ten_khachhang)"
   ]
  },
  {
   "cell_type": "code",
   "execution_count": 62,
   "id": "ebe1487e",
   "metadata": {},
   "outputs": [
    {
     "name": "stdout",
     "output_type": "stream",
     "text": [
      "Tần số của Nam là 463\n",
      "Tần số của Nữ là 537\n"
     ]
    }
   ],
   "source": [
    "ds_tp_count1 = []\n",
    "for tp in ds_ten_khachhang:\n",
    "    count = 0\n",
    "    \n",
    "    for tp_donhang in ds_khachhang:\n",
    "        if tp == tp_donhang:\n",
    "            count +=1\n",
    "    print(f\"Tần số của {tp} là\",count)\n",
    "    ds_tp_count1.append(count)"
   ]
  },
  {
   "cell_type": "code",
   "execution_count": 63,
   "id": "40a571a1",
   "metadata": {},
   "outputs": [],
   "source": [
    "tan_suat1 = []\n",
    "for i in range(len(ds_tp_count1)):\n",
    "    tan_suat1.append(ds_tp_count1[i]/1000)"
   ]
  },
  {
   "cell_type": "code",
   "execution_count": 64,
   "id": "bb3581f4",
   "metadata": {},
   "outputs": [
    {
     "name": "stdout",
     "output_type": "stream",
     "text": [
      "Tần số theo giới tính Nam/Nữ là [0.463, 0.537]\n"
     ]
    }
   ],
   "source": [
    "print(\"Tần số theo giới tính Nam/Nữ là\",tan_suat1)"
   ]
  },
  {
   "cell_type": "code",
   "execution_count": null,
   "id": "9b11a4e7",
   "metadata": {},
   "outputs": [],
   "source": []
  }
 ],
 "metadata": {
  "kernelspec": {
   "display_name": "Python 3 (ipykernel)",
   "language": "python",
   "name": "python3"
  },
  "language_info": {
   "codemirror_mode": {
    "name": "ipython",
    "version": 3
   },
   "file_extension": ".py",
   "mimetype": "text/x-python",
   "name": "python",
   "nbconvert_exporter": "python",
   "pygments_lexer": "ipython3",
   "version": "3.9.13"
  }
 },
 "nbformat": 4,
 "nbformat_minor": 5
}
