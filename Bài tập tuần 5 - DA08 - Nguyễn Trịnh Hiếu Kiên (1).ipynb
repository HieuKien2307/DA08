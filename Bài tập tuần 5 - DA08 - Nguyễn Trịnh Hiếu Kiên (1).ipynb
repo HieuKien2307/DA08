{
 "cells": [
  {
   "cell_type": "code",
   "execution_count": 10,
   "id": "e7c35a40",
   "metadata": {},
   "outputs": [],
   "source": [
    "import csv\n",
    "import pandas as pd \n",
    "import numpy as np\n",
    "import datetime as dt"
   ]
  },
  {
   "cell_type": "code",
   "execution_count": 11,
   "id": "db30c099",
   "metadata": {},
   "outputs": [],
   "source": [
    "ds_dientich = []\n",
    "ds_dai =[]\n",
    "ds_rong=[]\n",
    "ds_gia=[]\n",
    "ds_ngay_csv=[]\n",
    "with open(\"C:\\DA08\\VN_housing_dataset.csv\", mode='r', encoding=\"utf-8\",newline='') as a:\n",
    "    reader = csv.reader(a)\n",
    "    header = next(reader)\n",
    "    for row in reader :\n",
    "        ds_dientich.append(row[9])\n",
    "        ds_dai.append(row[10])\n",
    "        ds_rong.append(row[11])\n",
    "        ds_gia.append(row[12])\n",
    "        ds_ngay_csv.append(row[1])"
   ]
  },
  {
   "cell_type": "code",
   "execution_count": 12,
   "id": "8f8022df",
   "metadata": {},
   "outputs": [],
   "source": [
    "#ds_dientich "
   ]
  },
  {
   "cell_type": "code",
   "execution_count": 13,
   "id": "3617c07d",
   "metadata": {},
   "outputs": [],
   "source": [
    "#ds_dai "
   ]
  },
  {
   "cell_type": "code",
   "execution_count": 13,
   "id": "06c1ddee",
   "metadata": {},
   "outputs": [],
   "source": [
    "ds_dientich = np.array(ds_dientich)"
   ]
  },
  {
   "cell_type": "code",
   "execution_count": 15,
   "id": "75c4cd46",
   "metadata": {
    "scrolled": true
   },
   "outputs": [],
   "source": [
    "import numpy as np\n",
    "import re\n",
    "new_ds_dientich = []\n",
    "\n",
    "for dientich in ds_dientich:\n",
    "    if isinstance(dientich, (int, float)) and not np.isnan(dientich):\n",
    "        new_ds_dientich.append(dientich)\n",
    "    elif isinstance(dientich, str):\n",
    "        numeric_part = re.search(r'\\d+\\.?\\d*', dientich)\n",
    "        if numeric_part is not None:\n",
    "            numeric_value = float(numeric_part.group())\n",
    "            new_ds_dientich.append(numeric_value)"
   ]
  },
  {
   "cell_type": "code",
   "execution_count": 14,
   "id": "73f84b11",
   "metadata": {},
   "outputs": [],
   "source": [
    "#new_ds_dientich \n",
    "#Dữ liệu của diện tích không còn giá trị NaN"
   ]
  },
  {
   "cell_type": "code",
   "execution_count": 9,
   "id": "213fc4bf",
   "metadata": {},
   "outputs": [
    {
     "ename": "ValueError",
     "evalue": "time data '' does not match format '%Y-%m-%d'",
     "output_type": "error",
     "traceback": [
      "\u001b[1;31m---------------------------------------------------------------------------\u001b[0m",
      "\u001b[1;31mValueError\u001b[0m                                Traceback (most recent call last)",
      "\u001b[1;32m~\\AppData\\Local\\Temp\\ipykernel_13440\\3159164391.py\u001b[0m in \u001b[0;36m<module>\u001b[1;34m\u001b[0m\n\u001b[0;32m      1\u001b[0m \u001b[1;31m# format date to dd-mm-yyyy\u001b[0m\u001b[1;33m\u001b[0m\u001b[1;33m\u001b[0m\u001b[0m\n\u001b[1;32m----> 2\u001b[1;33m \u001b[0mlst_date_format\u001b[0m \u001b[1;33m=\u001b[0m \u001b[1;33m[\u001b[0m\u001b[0mdt\u001b[0m\u001b[1;33m.\u001b[0m\u001b[0mdatetime\u001b[0m\u001b[1;33m.\u001b[0m\u001b[0mstrptime\u001b[0m\u001b[1;33m(\u001b[0m\u001b[0mitem\u001b[0m\u001b[1;33m,\u001b[0m \u001b[1;34m'%Y-%m-%d'\u001b[0m\u001b[1;33m)\u001b[0m\u001b[1;33m.\u001b[0m\u001b[0mstrftime\u001b[0m\u001b[1;33m(\u001b[0m\u001b[1;34m\"%d-%m-%Y\"\u001b[0m\u001b[1;33m)\u001b[0m \u001b[1;32mfor\u001b[0m \u001b[0mitem\u001b[0m \u001b[1;32min\u001b[0m \u001b[0mds_ngay_csv\u001b[0m\u001b[1;33m]\u001b[0m\u001b[1;33m\u001b[0m\u001b[1;33m\u001b[0m\u001b[0m\n\u001b[0m",
      "\u001b[1;32m~\\AppData\\Local\\Temp\\ipykernel_13440\\3159164391.py\u001b[0m in \u001b[0;36m<listcomp>\u001b[1;34m(.0)\u001b[0m\n\u001b[0;32m      1\u001b[0m \u001b[1;31m# format date to dd-mm-yyyy\u001b[0m\u001b[1;33m\u001b[0m\u001b[1;33m\u001b[0m\u001b[0m\n\u001b[1;32m----> 2\u001b[1;33m \u001b[0mlst_date_format\u001b[0m \u001b[1;33m=\u001b[0m \u001b[1;33m[\u001b[0m\u001b[0mdt\u001b[0m\u001b[1;33m.\u001b[0m\u001b[0mdatetime\u001b[0m\u001b[1;33m.\u001b[0m\u001b[0mstrptime\u001b[0m\u001b[1;33m(\u001b[0m\u001b[0mitem\u001b[0m\u001b[1;33m,\u001b[0m \u001b[1;34m'%Y-%m-%d'\u001b[0m\u001b[1;33m)\u001b[0m\u001b[1;33m.\u001b[0m\u001b[0mstrftime\u001b[0m\u001b[1;33m(\u001b[0m\u001b[1;34m\"%d-%m-%Y\"\u001b[0m\u001b[1;33m)\u001b[0m \u001b[1;32mfor\u001b[0m \u001b[0mitem\u001b[0m \u001b[1;32min\u001b[0m \u001b[0mds_ngay_csv\u001b[0m\u001b[1;33m]\u001b[0m\u001b[1;33m\u001b[0m\u001b[1;33m\u001b[0m\u001b[0m\n\u001b[0m",
      "\u001b[1;32m~\\anaconda3\\lib\\_strptime.py\u001b[0m in \u001b[0;36m_strptime_datetime\u001b[1;34m(cls, data_string, format)\u001b[0m\n\u001b[0;32m    566\u001b[0m     \"\"\"Return a class cls instance based on the input string and the\n\u001b[0;32m    567\u001b[0m     format string.\"\"\"\n\u001b[1;32m--> 568\u001b[1;33m     \u001b[0mtt\u001b[0m\u001b[1;33m,\u001b[0m \u001b[0mfraction\u001b[0m\u001b[1;33m,\u001b[0m \u001b[0mgmtoff_fraction\u001b[0m \u001b[1;33m=\u001b[0m \u001b[0m_strptime\u001b[0m\u001b[1;33m(\u001b[0m\u001b[0mdata_string\u001b[0m\u001b[1;33m,\u001b[0m \u001b[0mformat\u001b[0m\u001b[1;33m)\u001b[0m\u001b[1;33m\u001b[0m\u001b[1;33m\u001b[0m\u001b[0m\n\u001b[0m\u001b[0;32m    569\u001b[0m     \u001b[0mtzname\u001b[0m\u001b[1;33m,\u001b[0m \u001b[0mgmtoff\u001b[0m \u001b[1;33m=\u001b[0m \u001b[0mtt\u001b[0m\u001b[1;33m[\u001b[0m\u001b[1;33m-\u001b[0m\u001b[1;36m2\u001b[0m\u001b[1;33m:\u001b[0m\u001b[1;33m]\u001b[0m\u001b[1;33m\u001b[0m\u001b[1;33m\u001b[0m\u001b[0m\n\u001b[0;32m    570\u001b[0m     \u001b[0margs\u001b[0m \u001b[1;33m=\u001b[0m \u001b[0mtt\u001b[0m\u001b[1;33m[\u001b[0m\u001b[1;33m:\u001b[0m\u001b[1;36m6\u001b[0m\u001b[1;33m]\u001b[0m \u001b[1;33m+\u001b[0m \u001b[1;33m(\u001b[0m\u001b[0mfraction\u001b[0m\u001b[1;33m,\u001b[0m\u001b[1;33m)\u001b[0m\u001b[1;33m\u001b[0m\u001b[1;33m\u001b[0m\u001b[0m\n",
      "\u001b[1;32m~\\anaconda3\\lib\\_strptime.py\u001b[0m in \u001b[0;36m_strptime\u001b[1;34m(data_string, format)\u001b[0m\n\u001b[0;32m    347\u001b[0m     \u001b[0mfound\u001b[0m \u001b[1;33m=\u001b[0m \u001b[0mformat_regex\u001b[0m\u001b[1;33m.\u001b[0m\u001b[0mmatch\u001b[0m\u001b[1;33m(\u001b[0m\u001b[0mdata_string\u001b[0m\u001b[1;33m)\u001b[0m\u001b[1;33m\u001b[0m\u001b[1;33m\u001b[0m\u001b[0m\n\u001b[0;32m    348\u001b[0m     \u001b[1;32mif\u001b[0m \u001b[1;32mnot\u001b[0m \u001b[0mfound\u001b[0m\u001b[1;33m:\u001b[0m\u001b[1;33m\u001b[0m\u001b[1;33m\u001b[0m\u001b[0m\n\u001b[1;32m--> 349\u001b[1;33m         raise ValueError(\"time data %r does not match format %r\" %\n\u001b[0m\u001b[0;32m    350\u001b[0m                          (data_string, format))\n\u001b[0;32m    351\u001b[0m     \u001b[1;32mif\u001b[0m \u001b[0mlen\u001b[0m\u001b[1;33m(\u001b[0m\u001b[0mdata_string\u001b[0m\u001b[1;33m)\u001b[0m \u001b[1;33m!=\u001b[0m \u001b[0mfound\u001b[0m\u001b[1;33m.\u001b[0m\u001b[0mend\u001b[0m\u001b[1;33m(\u001b[0m\u001b[1;33m)\u001b[0m\u001b[1;33m:\u001b[0m\u001b[1;33m\u001b[0m\u001b[1;33m\u001b[0m\u001b[0m\n",
      "\u001b[1;31mValueError\u001b[0m: time data '' does not match format '%Y-%m-%d'"
     ]
    }
   ],
   "source": [
    "# format date to dd-mm-yyyy\n",
    "lst_date_format = [dt.datetime.strptime(item, '%Y-%m-%d').strftime(\"%d-%m-%Y\") for item in ds_ngay_csv]"
   ]
  },
  {
   "cell_type": "code",
   "execution_count": null,
   "id": "5b119a59",
   "metadata": {},
   "outputs": [],
   "source": [
    "# Lấy vị trí NaN từ cột chieudai va xoa tuong ung voi các cột còn lại\n",
    "\n",
    "nan_index_lstcd = [i for i, e in enumerate(ds_chieudai_csv) if e =='NaN']\n",
    "\n",
    "lst_new_cd = [ds_chieudai_csv[i] for i, e in enumerate(ds_chieudai_csv) if i not in nan_index_lstcd]\n",
    "lst_new_cr = [ds_chieurong_csv[i] for i, e in enumerate(ds_chieurong_csv) if i not in nan_index_lstcd]\n",
    "lst_new_dt = [ds_dientich_csv[i] for i, e in enumerate(ds_dientich_csv) if i not in nan_index_lstcd]\n",
    "lst_new_gn = [ds_gianha_csv[i] for i, e in enumerate(ds_gianha_csv) if i not in nan_index_lstcd]\n",
    "lst_new_date = [lst_date_format[i] for i, e in enumerate(lst_date_format) if i not in nan_index_lstcd]"
   ]
  },
  {
   "cell_type": "code",
   "execution_count": null,
   "id": "362928a3",
   "metadata": {},
   "outputs": [],
   "source": [
    "\n",
    "# Lấy vị trí NaN từ cột chieurong va xoa tuong ung voi các cột còn lại\n",
    "\n",
    "nan_index_lstcr = [i for i, e in enumerate(lst_new_cr) if e =='NaN']\n",
    "\n",
    "lst_new_cd1 = [lst_new_cd[i] for i, e in enumerate(lst_new_cd) if i not in nan_index_lstcr]\n",
    "lst_new_cr1 = [lst_new_cr[i] for i, e in enumerate(lst_new_cr) if i not in nan_index_lstcr]\n",
    "lst_new_dt1 = [lst_new_dt[i] for i, e in enumerate(lst_new_dt) if i not in nan_index_lstcr]\n",
    "lst_new_gn1 = [lst_new_gn[i] for i, e in enumerate(lst_new_gn) if i not in nan_index_lstcr]\n",
    "lst_new_date1 = [lst_new_date[i] for i, e in enumerate(lst_new_date) if i not in nan_index_lstcr]"
   ]
  },
  {
   "cell_type": "code",
   "execution_count": null,
   "id": "fb83a796",
   "metadata": {},
   "outputs": [],
   "source": [
    "filter_data = list(zip(lst_new_date1, lst_new_dt1, lst_new_cd1, lst_new_cr1, lst_new_gn1))"
   ]
  },
  {
   "cell_type": "code",
   "execution_count": null,
   "id": "12a29533",
   "metadata": {},
   "outputs": [],
   "source": [
    "\n",
    "col_name = ['Ngày','Diện tích','Dài','Rộng','Giá/m2']\n",
    "with open('data/DA08_Wk5_NMT_KQ.csv', 'w', encoding='utf-8', newline='') as f:\n",
    "      \n",
    "    write = csv.writer(f)\n",
    "      \n",
    "    write.writerow(col_name)\n",
    "    write.writerows(filter_data)"
   ]
  }
 ],
 "metadata": {
  "kernelspec": {
   "display_name": "Python 3 (ipykernel)",
   "language": "python",
   "name": "python3"
  },
  "language_info": {
   "codemirror_mode": {
    "name": "ipython",
    "version": 3
   },
   "file_extension": ".py",
   "mimetype": "text/x-python",
   "name": "python",
   "nbconvert_exporter": "python",
   "pygments_lexer": "ipython3",
   "version": "3.9.13"
  }
 },
 "nbformat": 4,
 "nbformat_minor": 5
}
