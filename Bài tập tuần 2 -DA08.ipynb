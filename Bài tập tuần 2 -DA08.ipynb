{
 "cells": [
  {
   "cell_type": "markdown",
   "id": "ba9a657b",
   "metadata": {},
   "source": [
    "## Bai tap tuan 2"
   ]
  },
  {
   "cell_type": "code",
   "execution_count": 4,
   "id": "99db6a60",
   "metadata": {},
   "outputs": [
    {
     "name": "stdout",
     "output_type": "stream",
     "text": [
      "mua\n",
      "giu nguyen\n",
      "ban\n",
      "giu nguyen\n",
      "giu nguyen\n",
      "giu nguyen\n",
      "mua\n",
      "giu nguyen\n",
      "giu nguyen\n",
      "mua\n",
      "giu nguyen\n"
     ]
    }
   ],
   "source": [
    "#Viet vong lap ban hoac mua cp\n",
    "gia_theo_ngay = [10.1, 9.5, 10.7, 10.8, 10.6, 10.0, 10.2, 9.5]\n",
    "for i in range(len(gia_theo_ngay)-1):\n",
    "    if gia_theo_ngay[i+1]>=gia_theo_ngay[i]*1.07:\n",
    "        print(\"ban\")\n",
    "    if gia_theo_ngay[i+1]<=gia_theo_ngay[i]*0.95:\n",
    "        print(\"mua\")\n",
    "    print(\"giu nguyen\")"
   ]
  },
  {
   "cell_type": "code",
   "execution_count": 66,
   "id": "e6a3b045",
   "metadata": {},
   "outputs": [
    {
     "name": "stdout",
     "output_type": "stream",
     "text": [
      "1 không phải là số nguyên tố\n",
      "2 Không phải là số nguyên tố\n",
      "3 là số nguyên tố\n",
      "4 Không phải là số nguyên tố\n",
      "5 là số nguyên tố\n",
      "6 Không phải là số nguyên tố\n",
      "7 là số nguyên tố\n"
     ]
    }
   ],
   "source": [
    "import math\n",
    "#viet chuong trinh kiem tra snt\n",
    "danh_sach_kiem_tra =[1,2,3,4,5,6,7]\n",
    "for i in range(len(danh_sach_kiem_tra)):\n",
    "    check = False\n",
    "    if danh_sach_kiem_tra[i] < 0:\n",
    "        print(str(danh_sach_kiem_tra[i]) + \" không phải số tự nhiên\")\n",
    "    if danh_sach_kiem_tra[i] <2 :\n",
    "        print(str(danh_sach_kiem_tra[i]) + \" không phải là số nguyên tố\")\n",
    "    else:\n",
    "        for j in range(2, danh_sach_kiem_tra[i]):\n",
    "            if danh_sach_kiem_tra[i] % j != 0:\n",
    "                check = True\n",
    "            else:\n",
    "                check = False\n",
    "                break\n",
    "        if check == False:\n",
    "            print(str(danh_sach_kiem_tra[i]) + \" Không phải là số nguyên tố\")\n",
    "        if check == True:\n",
    "            print(str(danh_sach_kiem_tra[i]) + \" là số nguyên tố\")\n"
   ]
  },
  {
   "cell_type": "code",
   "execution_count": 26,
   "id": "528c9d7e",
   "metadata": {},
   "outputs": [],
   "source": [
    "import math\n",
    "## Viet Ham tinh BHYT va thue thu nhap ca nhan\n",
    "def tinh_bhyt_va_ttncn(luong, phucap ) :\n",
    "    bhyt = 0.2 * luong\n",
    "    thu_nhap_chiu_thue = luong - 11 - phucap\n",
    "    if thu_nhap_chiu_thue <= 0 :\n",
    "        print(\"Ban khong phai dong thue thu nhap ca nhan\")\n",
    "    elif thu_nhap_chiu_thue <= 5 :\n",
    "        a = thu_nhap_chiu_thue * 0.05\n",
    "    elif thu_nhap_chiu_thue <=10:\n",
    "        a = thu_nhap_chiu_thue * 0.1\n",
    "    elif thu_nhap_chiu_thue <=18:\n",
    "        a = thu_nhap_chiu_thue * 0.15\n",
    "    elif thu_nhap_chiu_thue <= 32:\n",
    "        a = thu_nhap_chiu_thue * 0.2\n",
    "    elif thu_nhap_chiu_thue <= 52:\n",
    "        a = thu_nhap_chiu_thue * 0.25\n",
    "    elif thu_nhap_chiu_thue <= 80:\n",
    "        a = thu_nhap_chiu_thue * 0.3\n",
    "    elif thu_nhap_chiu_thue >80:\n",
    "        a = thu_nhap_chiu_thue *0.35\n",
    "    print (f\"Thuế thu nhập cá nhân phải đóng là {a} triệu đồng\")\n",
    "    print (f\"Bảo hiểm y tế được nhận là {bhyt} triệu đồng\")\n",
    "   \n",
    "                                                                      \n",
    "\n",
    "                                                   "
   ]
  },
  {
   "cell_type": "code",
   "execution_count": 27,
   "id": "ae18995f",
   "metadata": {},
   "outputs": [
    {
     "name": "stdout",
     "output_type": "stream",
     "text": [
      "Thuế thu nhập cá nhân phải đóng là 0.8 triệu đồng\n",
      "Bảo hiểm y tế được nhận là 4.0 triệu đồng\n"
     ]
    }
   ],
   "source": [
    "tinh_bhyt_va_ttncn(20,1)"
   ]
  },
  {
   "cell_type": "code",
   "execution_count": null,
   "id": "03bdadb2",
   "metadata": {},
   "outputs": [],
   "source": []
  }
 ],
 "metadata": {
  "kernelspec": {
   "display_name": "Python 3 (ipykernel)",
   "language": "python",
   "name": "python3"
  },
  "language_info": {
   "codemirror_mode": {
    "name": "ipython",
    "version": 3
   },
   "file_extension": ".py",
   "mimetype": "text/x-python",
   "name": "python",
   "nbconvert_exporter": "python",
   "pygments_lexer": "ipython3",
   "version": "3.9.13"
  }
 },
 "nbformat": 4,
 "nbformat_minor": 5
}
